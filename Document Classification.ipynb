{
 "cells": [
  {
   "cell_type": "markdown",
   "id": "f17464d8-c3af-4f11-94ca-512a3f9c8161",
   "metadata": {},
   "source": [
    "## Download Dataset"
   ]
  },
  {
   "cell_type": "code",
   "execution_count": 7,
   "id": "db05b4d8-3954-4344-8b91-d8e77dd347d0",
   "metadata": {},
   "outputs": [
    {
     "name": "stdout",
     "output_type": "stream",
     "text": [
      "Please provide your Kaggle credentials to download this dataset. Learn more: http://bit.ly/kaggle-creds\n",
      "Your Kaggle username:"
     ]
    },
    {
     "name": "stdin",
     "output_type": "stream",
     "text": [
      "  ayushi21bcs2849\n"
     ]
    },
    {
     "name": "stdout",
     "output_type": "stream",
     "text": [
      "Your Kaggle Key:"
     ]
    },
    {
     "name": "stdin",
     "output_type": "stream",
     "text": [
      "  ········\n"
     ]
    },
    {
     "name": "stdout",
     "output_type": "stream",
     "text": [
      "Dataset URL: https://www.kaggle.com/datasets/shaz13/real-world-documents-collections\n",
      "Downloading real-world-documents-collections.zip to .\\real-world-documents-collections\n"
     ]
    },
    {
     "name": "stderr",
     "output_type": "stream",
     "text": [
      "100%|███████████████████████████████████████████████████████████████████████████████| 425M/425M [01:30<00:00, 4.92MB/s]\n"
     ]
    },
    {
     "name": "stdout",
     "output_type": "stream",
     "text": [
      "\n"
     ]
    }
   ],
   "source": [
    "import opendatasets as op\n",
    "op.download(\"https://www.kaggle.com/datasets/shaz13/real-world-documents-collections\")"
   ]
  },
  {
   "cell_type": "markdown",
   "id": "28dd3e66-c3b6-4f3c-b10f-0eeda7b5df12",
   "metadata": {},
   "source": [
    "## Import Required Libraries"
   ]
  },
  {
   "cell_type": "code",
   "execution_count": 85,
   "id": "d7d11886-dfd8-462d-8ed8-fba935db952b",
   "metadata": {},
   "outputs": [],
   "source": [
    "import pandas as pd\n",
    "import numpy as np\n",
    "import tensorflow as tf\n",
    "import string\n",
    "import nltk\n",
    "import pathlib\n",
    "import matplotlib.pyplot as plt\n",
    "from sklearn.model_selection import train_test_split\n",
    "import visualkeras\n",
    "import os\n",
    "import cv2\n",
    "import shutil\n",
    "import warnings\n",
    "import os\n",
    "import matplotlib.pyplot as plt\n",
    "from tensorflow.keras.utils import to_categorical\n",
    "from tensorflow.keras.metrics import TruePositives, FalsePositives, TrueNegatives, FalseNegatives, BinaryAccuracy, Precision, Recall, AUC\n",
    "warnings.filterwarnings('ignore')"
   ]
  },
  {
   "cell_type": "markdown",
   "id": "d8a5fb79-bfee-42e3-81eb-796d54e8761d",
   "metadata": {},
   "source": [
    "In the below cell, according to the required in the given assignment, I have deleted all the folders other than the three which I would be using. \n",
    "1) Invoice\n",
    "2) Email\n",
    "3) Budget\n",
    "\n",
    "   It will also decrease computation through all the folders in the given dataset."
   ]
  },
  {
   "cell_type": "code",
   "execution_count": 45,
   "id": "89283fec-138c-4c73-9f2c-d18b45c0307e",
   "metadata": {},
   "outputs": [],
   "source": [
    "# List of directories to keep (i.e., don't delete)\n",
    "directories_to_keep = [\n",
    "    \"invoice\",\n",
    "    \"email\",\n",
    "    \"budget\"\n",
    "]\n",
    "\n",
    "# Path where the directories are located\n",
    "parent_directory = \"real-world-documents-collections/docs-sm\"\n",
    "\n",
    "# List all directories in the parent directory\n",
    "all_directories = [d for d in os.listdir(parent_directory) if os.path.isdir(os.path.join(parent_directory, d))]\n",
    "\n",
    "# Remove the directories that is not needed\n",
    "for directory in all_directories:\n",
    "    if directory not in directories_to_keep:\n",
    "        try:\n",
    "            shutil.rmtree(os.path.join(parent_directory, directory))\n",
    "            print(f\"Successfully removed: {directory}\")\n",
    "        except Exception as e:\n",
    "            print(f\"Error removing {directory}: {e}\")\n",
    "\n"
   ]
  },
  {
   "cell_type": "code",
   "execution_count": 119,
   "id": "0b6f466c-b2b5-45a4-9eb5-13f56451f85d",
   "metadata": {},
   "outputs": [],
   "source": [
    "datasetFolder = \"real-world-documents-collections/docs-sm/\"\n",
    "\n",
    "train = pathlib.Path(os.path.join(datasetFolder))"
   ]
  },
  {
   "cell_type": "markdown",
   "id": "56b79b9b-ea2a-4f48-ba48-7a8ab8ee20ab",
   "metadata": {},
   "source": [
    "## 1) Data Exploration and preprocessing\n",
    "\n",
    "- Analyze and clean the data to handle missing values, invalid entries, or duplicates.\r",
    "- \n",
    "Prepare the dataset for training and testing, including creating labels if required\r\n"
   ]
  },
  {
   "cell_type": "markdown",
   "id": "fa58cdc6-00b6-42e3-8e2a-30ae8d97dc97",
   "metadata": {},
   "source": [
    "Below are the functions required for the exptraction of data from the given image.\n",
    "\n",
    "1) Extract_text_from_image-> This function is used to extract the texts from the image.\n",
    "2) Get_images_labels -> To define labels to budget, invoice, email.\n",
    "\n",
    "Note:- The images in the dataset were quite blurry and the texts were also not quite visible."
   ]
  },
  {
   "cell_type": "code",
   "execution_count": 120,
   "id": "7e486a48-5c86-47ed-a238-aa385a37fc64",
   "metadata": {},
   "outputs": [],
   "source": [
    "def extract_text_from_image(image_path):\n",
    "    image = Image.open(image_path)\n",
    "    text = pytesseract.image_to_string(image)\n",
    "    return text"
   ]
  },
  {
   "cell_type": "code",
   "execution_count": 121,
   "id": "36d3cd6d-4a79-41e6-b386-6333fc5e7f44",
   "metadata": {},
   "outputs": [],
   "source": [
    "def get_images_labels(images, label):\n",
    "    arr = []\n",
    "    labels = []\n",
    "    for i in images:\n",
    "        img = cv2.imread(os.path.join(i))\n",
    "        img = cv2.cvtColor(img, cv2.COLOR_BGR2GRAY)\n",
    "        img = cv2.resize(img, (120, 120))\n",
    "        img1 = img[0:30, 0:120]/255\n",
    "        img2 = img[30:90, 0:60]/255\n",
    "        img3 = img[30:90, 60:120]/255\n",
    "        img4 = img[90:120, 0:120]/255\n",
    "        img = np.asarray([cv2.resize(img1, (48, 48)),\n",
    "                          cv2.resize(img2, (48, 48)),\n",
    "                          cv2.resize(img3, (48, 48)),\n",
    "                          cv2.resize(img4, (48, 48))])\n",
    "        img_mean = np.mean(img)\n",
    "        img = img - img_mean\n",
    "        img = img / np.std(img)\n",
    "        arr.append(img)\n",
    "        labels.append(label)\n",
    "    return [arr, labels]"
   ]
  },
  {
   "cell_type": "code",
   "execution_count": 122,
   "id": "a61e55e5-7940-4c9a-b7aa-7497a2845d2d",
   "metadata": {},
   "outputs": [],
   "source": [
    "[budget, Y_budget] = get_images_labels(list(train.glob(\"budget/*.*\")), 0)\n",
    "[email, Y_email] = get_images_labels(list(train.glob(\"email/*.*\")), 1)\n",
    "[invoice, Y_invoice] = get_images_labels(list(train.glob(\"invoice/*.*\")), 2)"
   ]
  },
  {
   "cell_type": "code",
   "execution_count": 145,
   "id": "52c27553-f396-4f10-a3f9-e3a886756f58",
   "metadata": {},
   "outputs": [],
   "source": [
    "# Combining budget, email, invoice together\n",
    "images = budget + email + invoice\n",
    "labels = Y_budget + Y_email + Y_invoice\n",
    "\n",
    "images = np.asarray(images)\n",
    "labels = np.asarray(labels)\n",
    "\n",
    "images = np.transpose(images, (0, 2, 3, 1))"
   ]
  },
  {
   "cell_type": "code",
   "execution_count": 146,
   "id": "1ba9e128-1be5-46ae-bf7b-bd47223794b7",
   "metadata": {},
   "outputs": [
    {
     "data": {
      "text/plain": [
       "array([[[-7.49203308, -6.59138462,  0.27924896, -1.68475195],\n",
       "        [-7.54594683,  0.27924896,  0.27924896,  0.27924896],\n",
       "        [-7.54594683,  0.27924896,  0.27924896,  0.27924896],\n",
       "        ...,\n",
       "        [ 0.27924896,  0.27924896,  0.27924896,  0.27924896],\n",
       "        [ 0.27924896,  0.27924896,  0.27924896,  0.27924896],\n",
       "        [ 0.27924896,  0.27924896,  0.27924896,  0.27924896]],\n",
       "\n",
       "       [[-4.94797797, -6.57790618,  0.27924896, -1.68138234],\n",
       "        [-4.12242367,  0.27924896,  0.27924896,  0.27924896],\n",
       "        [-4.12242367,  0.27924896,  0.27924896,  0.27924896],\n",
       "        ...,\n",
       "        [ 0.27924896,  0.27924896,  0.27924896,  0.27924896],\n",
       "        [ 0.27924896,  0.27924896,  0.27924896,  0.27924896],\n",
       "        [ 0.27924896,  0.27924896,  0.27924896,  0.27924896]],\n",
       "\n",
       "       [[-1.67753136, -6.59475423,  0.27924896, -1.67753136],\n",
       "        [ 0.27924896,  0.27924896,  0.27924896,  0.27924896],\n",
       "        [ 0.27924896,  0.27924896,  0.27924896,  0.27924896],\n",
       "        ...,\n",
       "        [ 0.27924896,  0.27924896,  0.27924896,  0.27924896],\n",
       "        [ 0.27924896,  0.27924896,  0.27924896,  0.27924896],\n",
       "        [ 0.27924896,  0.27924896,  0.27924896,  0.27924896]],\n",
       "\n",
       "       ...,\n",
       "\n",
       "       [[-1.67753136, -6.59475423, -1.48161264,  0.27924896],\n",
       "        [ 0.27924896,  0.27924896, -1.26980862,  0.27924896],\n",
       "        [ 0.27924896,  0.27924896, -2.54785333,  0.27924896],\n",
       "        ...,\n",
       "        [ 0.27924896, -2.31486891,  0.27924896,  0.27924896],\n",
       "        [ 0.27924896, -1.2365939 ,  0.27924896,  0.27924896],\n",
       "        [ 0.27924896, -0.9395869 ,  0.27924896,  0.27924896]],\n",
       "\n",
       "       [[-1.68138234, -6.57790618, -2.12424529,  0.27924896],\n",
       "        [ 0.27924896,  0.27924896, -5.11357021,  0.27924896],\n",
       "        [ 0.27924896,  0.27924896, -3.56354988,  0.27924896],\n",
       "        ...,\n",
       "        [ 0.27924896, -3.12838889,  0.27924896,  0.27924896],\n",
       "        [ 0.27924896, -1.53263815,  0.27924896,  0.27924896],\n",
       "        [ 0.27924896, -1.87585694,  0.27924896,  0.27924896]],\n",
       "\n",
       "       [[-1.68475195, -6.59138462,  0.09103221,  0.27924896],\n",
       "        [ 0.27924896,  0.27924896, -0.67483187,  0.27924896],\n",
       "        [ 0.27924896,  0.27924896, -0.20308656,  0.27924896],\n",
       "        ...,\n",
       "        [ 0.27924896, -0.21752774,  0.27924896,  0.27924896],\n",
       "        [ 0.27924896,  0.17479107,  0.27924896,  0.27924896],\n",
       "        [ 0.27924896, -0.03171785,  0.27924896,  0.27924896]]])"
      ]
     },
     "execution_count": 146,
     "metadata": {},
     "output_type": "execute_result"
    }
   ],
   "source": [
    "images[0]"
   ]
  },
  {
   "cell_type": "code",
   "execution_count": 147,
   "id": "17bf3ae7-a1aa-45ab-b90b-9adbac8c9ec3",
   "metadata": {},
   "outputs": [
    {
     "data": {
      "text/plain": [
       "(947, 48, 48, 4)"
      ]
     },
     "execution_count": 147,
     "metadata": {},
     "output_type": "execute_result"
    }
   ],
   "source": [
    "images.shape"
   ]
  },
  {
   "cell_type": "code",
   "execution_count": 148,
   "id": "b865d8a5-0df4-4fae-9adf-66873089eb13",
   "metadata": {},
   "outputs": [
    {
     "data": {
      "text/plain": [
       "(947,)"
      ]
     },
     "execution_count": 148,
     "metadata": {},
     "output_type": "execute_result"
    }
   ],
   "source": [
    "labels.shape"
   ]
  },
  {
   "cell_type": "code",
   "execution_count": 149,
   "id": "2d594627-1d90-46ed-acb9-55f17e5d2e8c",
   "metadata": {},
   "outputs": [
    {
     "data": {
      "image/png": "[encoded data removed]",
      "text/plain": [
       "<Figure size 100x100 with 1 Axes>"
      ]
     },
     "metadata": {},
     "output_type": "display_data"
    },
    {
     "data": {
      "image/png": "[encoded data removed]",
      "text/plain": [
       "<Figure size 100x100 with 1 Axes>"
      ]
     },
     "metadata": {},
     "output_type": "display_data"
    },
    {
     "data": {
      "image/png": "[encoded data removed]",
      "text/plain": [
       "<Figure size 100x100 with 1 Axes>"
      ]
     },
     "metadata": {},
     "output_type": "display_data"
    },
    {
     "data": {
      "image/png": "[encoded data removed]",
      "text/plain": [
       "<Figure size 100x100 with 1 Axes>"
      ]
     },
     "metadata": {},
     "output_type": "display_data"
    }
   ],
   "source": [
    "for i in range(4):\n",
    "  plt.figure(figsize = (1, 1))\n",
    "  plt.imshow(images[4][i])\n",
    "  plt.grid(False)\n",
    "  plt.show()"
   ]
  },
  {
   "cell_type": "code",
   "execution_count": 150,
   "id": "bb6a07c6-faf5-4b1f-9114-ccfbd541381e",
   "metadata": {},
   "outputs": [
    {
     "data": {
      "text/plain": [
       "0"
      ]
     },
     "execution_count": 150,
     "metadata": {},
     "output_type": "execute_result"
    }
   ],
   "source": [
    "labels[0]"
   ]
  },
  {
   "cell_type": "markdown",
   "id": "419f8283-9e6c-4b10-b153-ce21cebd5511",
   "metadata": {},
   "source": [
    "## 2) Document Classification"
   ]
  },
  {
   "cell_type": "code",
   "execution_count": 151,
   "id": "1f9ac45d-fa25-4557-9c00-a5a2a09dbe5f",
   "metadata": {},
   "outputs": [],
   "source": [
    "#(80% train, 20% test)\n",
    "X_train, X_test, y_train, y_test = train_test_split(images, labels, test_size=0.2, random_state=42)"
   ]
  },
  {
   "cell_type": "code",
   "execution_count": 152,
   "id": "7b999714-387c-490d-b1eb-cbcefd801cbe",
   "metadata": {},
   "outputs": [
    {
     "data": {
      "text/plain": [
       "((757, 48, 48, 4), (190, 48, 48, 4))"
      ]
     },
     "execution_count": 152,
     "metadata": {},
     "output_type": "execute_result"
    }
   ],
   "source": [
    "X_train.shape, X_test.shape "
   ]
  },
  {
   "cell_type": "code",
   "execution_count": 153,
   "id": "90a007d8-a7fd-4d2a-9cef-76c9502e8fb8",
   "metadata": {},
   "outputs": [],
   "source": [
    "from tensorflow.keras.utils import to_categorical\n",
    "y_train = to_categorical(y_train, num_classes=3) \n",
    "y_test = to_categorical(y_test)"
   ]
  },
  {
   "cell_type": "code",
   "execution_count": 154,
   "id": "4a977f53-46ab-466c-987d-b9d6bcf1a231",
   "metadata": {},
   "outputs": [
    {
     "data": {
      "text/plain": [
       "((757, 3), (190, 3))"
      ]
     },
     "execution_count": 154,
     "metadata": {},
     "output_type": "execute_result"
    }
   ],
   "source": [
    "y_train.shape, y_test.shape"
   ]
  },
  {
   "cell_type": "code",
   "execution_count": 155,
   "id": "5c31fefb-def0-45ea-a15c-d43c41a75d90",
   "metadata": {},
   "outputs": [
    {
     "name": "stdout",
     "output_type": "stream",
     "text": [
      "Epoch 1/10\n",
      "WARNING:tensorflow:From C:\\Users\\ayush\\anaconda3\\Lib\\site-packages\\keras\\src\\utils\\tf_utils.py:492: The name tf.ragged.RaggedTensorValue is deprecated. Please use tf.compat.v1.ragged.RaggedTensorValue instead.\n",
      "\n",
      "WARNING:tensorflow:From C:\\Users\\ayush\\anaconda3\\Lib\\site-packages\\keras\\src\\engine\\base_layer_utils.py:384: The name tf.executing_eagerly_outside_functions is deprecated. Please use tf.compat.v1.executing_eagerly_outside_functions instead.\n",
      "\n",
      "24/24 [==============================] - 16s 578ms/step - loss: 2.2112 - accuracy: 0.4624\n",
      "Epoch 2/10\n",
      "24/24 [==============================] - 14s 566ms/step - loss: 0.7317 - accuracy: 0.6380\n",
      "Epoch 3/10\n",
      "24/24 [==============================] - 14s 563ms/step - loss: 0.5987 - accuracy: 0.7160\n",
      "Epoch 4/10\n",
      "24/24 [==============================] - 13s 558ms/step - loss: 0.5620 - accuracy: 0.7371\n",
      "Epoch 5/10\n",
      "24/24 [==============================] - 13s 562ms/step - loss: 0.5445 - accuracy: 0.7662\n",
      "Epoch 6/10\n",
      "24/24 [==============================] - 14s 595ms/step - loss: 0.4644 - accuracy: 0.8111\n",
      "Epoch 7/10\n",
      "24/24 [==============================] - 15s 613ms/step - loss: 0.4314 - accuracy: 0.8230\n",
      "Epoch 8/10\n",
      "24/24 [==============================] - 16s 675ms/step - loss: 0.4127 - accuracy: 0.8190\n",
      "Epoch 9/10\n",
      "24/24 [==============================] - 16s 664ms/step - loss: 0.3694 - accuracy: 0.8507\n",
      "Epoch 10/10\n",
      "24/24 [==============================] - 17s 693ms/step - loss: 0.3741 - accuracy: 0.8402\n"
     ]
    },
    {
     "data": {
      "text/plain": [
       "<keras.src.callbacks.History at 0x23f90dc7450>"
      ]
     },
     "execution_count": 155,
     "metadata": {},
     "output_type": "execute_result"
    }
   ],
   "source": [
    "model = tf.keras.Sequential()\n",
    "model.add(tf.keras.layers.Conv2D(512, (3, 3), activation=\"relu\", input_shape=(48, 48, 4)))  # Fixed input shape\n",
    "model.add(tf.keras.layers.MaxPooling2D())\n",
    "model.add(tf.keras.layers.Dropout(0.2))\n",
    "\n",
    "model.add(tf.keras.layers.Conv2D(256, (3, 3), activation=\"relu\"))\n",
    "model.add(tf.keras.layers.MaxPooling2D())\n",
    "model.add(tf.keras.layers.Dropout(0.2))\n",
    "\n",
    "# Flatten the 2D convolutional output to 1D for the dense layer\n",
    "model.add(tf.keras.layers.Flatten())\n",
    "model.add(tf.keras.layers.Dense(1024, activation=\"sigmoid\"))\n",
    "model.add(tf.keras.layers.Dropout(0.2))\n",
    "\n",
    "# Output layer for 3 classes\n",
    "model.add(tf.keras.layers.Dense(3, activation=\"softmax\"))\n",
    "\n",
    "# Compile the model\n",
    "model.compile(optimizer=\"adam\", loss=\"categorical_crossentropy\", metrics=[\"accuracy\"])\n",
    "\n",
    "# Train the model\n",
    "model.fit(X_train, y_train, epochs=10, batch_size=32)"
   ]
  },
  {
   "cell_type": "markdown",
   "id": "c92d9f9b-5128-4e90-a322-3ad1ac029187",
   "metadata": {},
   "source": [
    "model.compile(optimizer=\"adam\", loss='categorical_crossentropy',\n",
    "          metrics=[TruePositives(name='tp'), \n",
    "                   FalsePositives(name='fp'), \n",
    "                   TrueNegatives(name='tn'), \n",
    "                   FalseNegatives(name='fn'), \n",
    "                   \"accuracy\", \n",
    "                   Precision(name='precision'), \n",
    "                   Recall(name='recall'), \n",
    "                   AUC(name='auc')])"
   ]
  },
  {
   "cell_type": "code",
   "execution_count": 156,
   "id": "7037bda3-fb28-40f1-a255-f189c9eb4bef",
   "metadata": {},
   "outputs": [
    {
     "name": "stdout",
     "output_type": "stream",
     "text": [
      "12/12 [==============================] - 1s 66ms/step - loss: 0.7358 - accuracy: 0.6895\n"
     ]
    },
    {
     "data": {
      "text/plain": [
       "[0.7358003258705139, 0.6894736886024475]"
      ]
     },
     "execution_count": 156,
     "metadata": {},
     "output_type": "execute_result"
    }
   ],
   "source": [
    "model.evaluate(X_test, y_test, batch_size=16)"
   ]
  },
  {
   "cell_type": "code",
   "execution_count": 157,
   "id": "72aceec5-4196-4d17-8293-a0656d830b88",
   "metadata": {},
   "outputs": [
    {
     "name": "stdout",
     "output_type": "stream",
     "text": [
      "12/12 [==============================] - 1s 66ms/step\n"
     ]
    }
   ],
   "source": [
    "y_pred = model.predict(X_test, batch_size=16, verbose=1)\n",
    "y_pred = np.argmax(y_pred, axis=1)"
   ]
  },
  {
   "cell_type": "code",
   "execution_count": 158,
   "id": "34cdbf52-cbbb-49c0-b804-79c38fd1cae9",
   "metadata": {},
   "outputs": [],
   "source": [
    "y_test = np.argmax(y_test, axis=1)"
   ]
  },
  {
   "cell_type": "markdown",
   "id": "4e5c4e28-8b18-46e9-b190-c2d166d0884c",
   "metadata": {},
   "source": [
    "### Classification Report"
   ]
  },
  {
   "cell_type": "code",
   "execution_count": 159,
   "id": "ff1524fd-7762-4938-af44-e53744e429f8",
   "metadata": {},
   "outputs": [
    {
     "name": "stdout",
     "output_type": "stream",
     "text": [
      "              precision    recall  f1-score   support\n",
      "\n",
      "           0       0.60      0.76      0.67        75\n",
      "           1       0.92      0.84      0.88        58\n",
      "           2       0.60      0.44      0.51        57\n",
      "\n",
      "    accuracy                           0.69       190\n",
      "   macro avg       0.71      0.68      0.69       190\n",
      "weighted avg       0.70      0.69      0.69       190\n",
      "\n"
     ]
    }
   ],
   "source": [
    "from sklearn.metrics import accuracy_score, classification_report\n",
    "accuracy_score(y_test, y_pred)\n",
    "\n",
    "print(classification_report(y_test, y_pred))"
   ]
  },
  {
   "cell_type": "markdown",
   "id": "ad10eac6-ccf7-4b58-9235-36d57a1bd2ac",
   "metadata": {},
   "source": [
    "### Confusion Matrix"
   ]
  },
  {
   "cell_type": "code",
   "execution_count": 160,
   "id": "019d8a3a-1353-49ac-831f-506f4f046456",
   "metadata": {},
   "outputs": [
    {
     "data": {
      "image/png": "[encoded data removed]",
      "text/plain": [
       "<Figure size 800x600 with 2 Axes>"
      ]
     },
     "metadata": {},
     "output_type": "display_data"
    }
   ],
   "source": [
    "classes = list(range(3))  \n",
    "# Compute confusion matrix\n",
    "res = tf.math.confusion_matrix(y_pred, y_test).numpy()\n",
    "# Create a DataFrame for visualization\n",
    "cm = pd.DataFrame(res, index=classes, columns=classes)\n",
    "# Plot Confusion Matrix\n",
    "import seaborn as sns\n",
    "import matplotlib.pyplot as plt\n",
    "figure = plt.figure(figsize=(8, 6))\n",
    "sns.heatmap(cm, annot=True, cmap=plt.cm.Blues, fmt='d')\n",
    "plt.ylabel('True label')\n",
    "plt.xlabel('Predicted label')\n",
    "plt.title(\"Confusion Matrix\")\n",
    "plt.show()"
   ]
  },
  {
   "cell_type": "markdown",
   "id": "8ef85ded-2b8f-4f18-b44a-bcfe94cebedc",
   "metadata": {},
   "source": [
    "### 3) Invoice Data Extraction\n",
    "\n",
    "- In the given dataset, the images are blurry resulting texts to not be cleared to extract properly, so there can be irrelevant or null values in the csv and json files."
   ]
  },
  {
   "cell_type": "code",
   "execution_count": 161,
   "id": "1e6f0050-e168-4ec5-9c8b-350fb55dda6e",
   "metadata": {},
   "outputs": [
    {
     "name": "stdout",
     "output_type": "stream",
     "text": [
      "Extracted invoice details saved in extracted_invoices.csv\n",
      "Extracted invoice details saved in extracted_invoices.json\n"
     ]
    }
   ],
   "source": [
    "import re\n",
    "import json\n",
    "import csv\n",
    "import pytesseract\n",
    "from PIL import Image\n",
    "\n",
    "pytesseract.pytesseract.tesseract_cmd = r\"C:\\Program Files\\Tesseract-OCR\\tesseract.exe\"  \n",
    "\n",
    "# Path to the invoice images\n",
    "invoice_folder = \"real-world-documents-collections/docs-sm/invoice\"\n",
    "\n",
    "def extract_text_from_image(image_path):\n",
    "    \"\"\"Extracts text from an invoice image using OCR.\"\"\"\n",
    "    image = Image.open(image_path)\n",
    "    text = pytesseract.image_to_string(image)\n",
    "    return text\n",
    "\n",
    "def extract_invoice_details(text):\n",
    "    \"\"\"Extracts key details such as invoice number, date, amount, and vendor from the text.\"\"\"\n",
    "    details = {\n",
    "        \"Invoice Number\": None,\n",
    "        \"Date\": None,\n",
    "        \"Amount\": None,\n",
    "        \"Vendor\": None\n",
    "    }\n",
    "\n",
    "    invoice_number_match = re.search(r\"(?:INV|#)?\\s?(\\d{5,})\", text)\n",
    "    if invoice_number_match:\n",
    "        details[\"Invoice Number\"] = invoice_number_match.group(1)\n",
    "\n",
    "    date_match = re.search(r\"(\\d{2}/\\d{2}/\\d{4}|\\d{4}-\\d{2}-\\d{2})\", text)\n",
    "    if date_match:\n",
    "        details[\"Date\"] = date_match.group(1)\n",
    "\n",
    "    amount_match = re.search(r\"(\\₹|\\$|€)?\\s?(\\d{1,3}(?:,\\d{3})*(?:\\.\\d{2})?)\", text)\n",
    "    if amount_match:\n",
    "        details[\"Amount\"] = amount_match.group(0)\n",
    "\n",
    "    vendor_match = re.search(r\"(?:Vendor|From):\\s*([A-Za-z\\s]+)\", text)\n",
    "    if vendor_match:\n",
    "        details[\"Vendor\"] = vendor_match.group(1).strip()\n",
    "\n",
    "    return details\n",
    "\n",
    "def extract_table_from_text(text):\n",
    "    \"\"\"Extracts tabular data from invoice text.\"\"\"\n",
    "    lines = text.split(\"\\n\")\n",
    "    table_data = []\n",
    "    \n",
    "    for line in lines:\n",
    "\n",
    "        match = re.match(r\"([\\w\\s]+)\\s+(\\d+)\\s+(\\d+\\.\\d{2})\", line)\n",
    "        if match:\n",
    "            item, quantity, price = match.groups()\n",
    "            table_data.append({\"Item\": item.strip(), \"Quantity\": int(quantity), \"Price\": float(price)})\n",
    "\n",
    "    return table_data\n",
    "\n",
    "extracted_data = []\n",
    "\n",
    "for filename in os.listdir(invoice_folder):\n",
    "    if filename.endswith(\".jpg\") or filename.endswith(\".png\"):  \n",
    "        image_path = os.path.join(invoice_folder, filename)\n",
    "        \n",
    "        text = extract_text_from_image(image_path)\n",
    "        invoice_details = extract_invoice_details(text)\n",
    "        table_data = extract_table_from_text(text)\n",
    "        \n",
    "        invoice_details[\"Items\"] = table_data  \n",
    "        extracted_data.append(invoice_details)\n",
    "\n",
    "csv_file = \"extracted_invoices.csv\"\n",
    "json_file = \"extracted_invoices.json\"\n",
    "\n",
    "if extracted_data:\n",
    "    df = pd.DataFrame(extracted_data)\n",
    "    df.to_csv(csv_file, index=False)\n",
    "    print(f\"Extracted invoice details saved in {csv_file}\")\n",
    "\n",
    "    # Save as JSON\n",
    "    with open(json_file, \"w\", encoding=\"utf-8\") as f:\n",
    "        json.dump(extracted_data, f, indent=4)\n",
    "    print(f\"Extracted invoice details saved in {json_file}\")\n",
    "else:\n",
    "    print(\"No invoice data extracted.\")\n"
   ]
  },
  {
   "cell_type": "code",
   "execution_count": null,
   "id": "432c3285-fff1-4bd6-a029-8bfc2b1b266f",
   "metadata": {},
   "outputs": [],
   "source": []
  }
 ],
 "metadata": {
  "kernelspec": {
   "display_name": "Python 3 (ipykernel)",
   "language": "python",
   "name": "python3"
  },
  "language_info": {
   "codemirror_mode": {
    "name": "ipython",
    "version": 3
   },
   "file_extension": ".py",
   "mimetype": "text/x-python",
   "name": "python",
   "nbconvert_exporter": "python",
   "pygments_lexer": "ipython3",
   "version": "3.11.5"
  }
 },
 "nbformat": 4,
 "nbformat_minor": 5
}
